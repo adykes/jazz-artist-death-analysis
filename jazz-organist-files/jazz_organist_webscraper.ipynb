{
 "cells": [
  {
   "cell_type": "code",
   "execution_count": 1,
   "metadata": {},
   "outputs": [],
   "source": [
    "import numpy as np\n",
    "import pandas as pd\n",
    "import requests\n",
    "import bs4\n",
    "import re\n",
    "from time import sleep\n",
    "from spellchecker import SpellChecker"
   ]
  },
  {
   "cell_type": "code",
   "execution_count": 16,
   "metadata": {},
   "outputs": [],
   "source": [
    "result = requests.get(\"https://en.wikipedia.org/wiki/List_of_jazz_organists\")"
   ]
  },
  {
   "cell_type": "code",
   "execution_count": 17,
   "metadata": {},
   "outputs": [],
   "source": [
    "soup = bs4.BeautifulSoup(result.text, \"html.parser\")"
   ]
  },
  {
   "cell_type": "code",
   "execution_count": 18,
   "metadata": {
    "scrolled": true
   },
   "outputs": [],
   "source": [
    "uOrganistsLinks = dict()\n",
    "\n",
    "# For each letter category on the page (which are marked by div class: div-col)\n",
    "for div_col in soup.find_all('div', {'class' : 'div-col'}):\n",
    "    # For each tag containing the artist's name and hyperlink (marked by the <a> tag)\n",
    "    for artist_tag in div_col.find_all('a'):\n",
    "        # artist_tag.text = artist's name; artist_tag.attrs[\"href\"] = wiki link extension for that artist\n",
    "        #print(f'{artist_tag.text}, {artist_tag.attrs[\"href\"]}')\n",
    "        uOrganistsLinks.update( {artist_tag.text : artist_tag.attrs[\"href\"] } )\n",
    "            \n"
   ]
  },
  {
   "cell_type": "code",
   "execution_count": 19,
   "metadata": {},
   "outputs": [],
   "source": [
    "# There aren't years listed on this list either (similar to the guitarists). More manual data collection! Yay!"
   ]
  },
  {
   "cell_type": "code",
   "execution_count": 20,
   "metadata": {},
   "outputs": [],
   "source": [
    "# Creating a custom dictionary with pyspellchecker that contains most, if not all, instruments used to play jazz\n",
    "spell = SpellChecker(language = None, case_sensitive = True)\n",
    "a = spell.word_frequency.load_words(['Piano', 'Vocals', 'Keyboards', 'Double bass', 'Saxophone', 'Clarinet', 'Trumpet', \n",
    "                                    'Trombone', 'Drums', 'Guitar', 'Flute', 'Vibraphone', 'Banjo', 'Violin', 'Viola', \n",
    "                                    'Cello', 'Synthesizer'])"
   ]
  },
  {
   "cell_type": "code",
   "execution_count": 21,
   "metadata": {
    "scrolled": true
   },
   "outputs": [],
   "source": [
    "# Creating DataFrame to store the information on the pianists\n",
    "pDF = pd.DataFrame(columns = ['artist', 'instrument', 'birthdate', 'deathdate', 'birth_year', 'death_year'])\n",
    "\n",
    "# Main script that will take the wikis in the fullPianistsList dictionary and scrape the data in the biographical\n",
    "# table for each artist. I have done much research into the legality and ethicality of this operation, and I've \n",
    "# determined that it's okay to run a script like this as long as I have at least a one-second delay inbetween \n",
    "# each iteration of the below for loop, so as to not create too much traffic. \n",
    "\n",
    "# For testing the DataFrame:\n",
    "runs = 0\n",
    "\n",
    "for organist, link in uOrganistsLinks.items():\n",
    "    \n",
    "    # For testing purposes\n",
    "    #if runs < 30:\n",
    "        #print(organist, link)\n",
    "    \n",
    "        bday = ''\n",
    "        dday = ''\n",
    "        \n",
    "        bYear = ''\n",
    "        dYear = ''\n",
    "        \n",
    "        lSpan = 0\n",
    "        \n",
    "        # instrumentList is important for a later operation, although it can most likely be simplified\n",
    "        instrumentList = []\n",
    "    \n",
    "        # Create the link by appending the wikipedia link for the artist onto the end of the general wikipedia link\n",
    "        wikiLink = 'https://en.wikipedia.org' + link\n",
    "    \n",
    "        # Following the basic requests and bs4 process to read in a webpage\n",
    "        pInfo = requests.get(wikiLink)\n",
    "        pSoup = bs4.BeautifulSoup(pInfo.text, \"html.parser\")\n",
    "    \n",
    "        # Finding the biographical information table, which is always in a table with the class = infobox vcard plainlist\n",
    "        # However, some pages don't have the table, which is why there is a conditional first. \n",
    "        if pSoup.find('table', {'class' : 'infobox vcard plainlist'}):\n",
    "            \n",
    "    \n",
    "            # aTable is the tag in which the script will find all of the necessary information\n",
    "            aTable = pSoup.find('table', {'class' : 'infobox vcard plainlist'})\n",
    "    \n",
    "            # All of the necessary information is within the <tr> row element \n",
    "            for table in aTable.find_all('tr'):\n",
    "    \n",
    "                # First, finding the primary instrument of the artist (which is all that this project will\n",
    "                # be concerned with for the moment, sorry multi-instrumentalists). The instrument data is listed in\n",
    "                # the <td> tag with the class = note. However, because the script must account for the fact that\n",
    "                # there are multi-instrumentalists, the script only returns the first instrument that is found. \n",
    "                # In lieu of a more efficient way to do this, there is an index that will only allow the instrumentList\n",
    "                # to append the first instrument it finds. This should probably be fixed too. \n",
    "                if table.find('td', {'class' : 'note'}):\n",
    "                    index = 0\n",
    "                    for string in table.find('td', {'class' : 'note'}).stripped_strings:\n",
    "                        if index == 0:\n",
    "                            string = string.split(',')[0]\n",
    "                            string = spell.correction(string)\n",
    "                            instrumentList.append(string.split(',')[0])\n",
    "                            index += 1\n",
    "        \n",
    "                # Finding the birthday of the artist. If there is one, it is always contained within the span class = \n",
    "                # bday tag, and the date can be accessed with the .string bs4 method\n",
    "                # THERE ARE ISSUES HERE BECAUSE OF WIKIPEDIA SHODDY FORMATTING - FIGURE THIS OUT\n",
    "                if table.find('span', {'class' : 'bday'}):\n",
    "                    #print(table.find('span', {'class' : 'bday'}).string)\n",
    "                    bday = table.find('span', {'class' : 'bday'}).string\n",
    "                    bYear = bday[0:4]\n",
    "        \n",
    "                # Finding the deathdate of the artist. If there is one, it is usually contained within the span style = \n",
    "                # display:none tag. However, there are multiple pieces of information that can be contained within a \n",
    "                # style = diplay:none tag. Fortunately, the death date is the only piece of information that is \n",
    "                # accessible via the .string method, so the script checks for the possibility of the .string method\n",
    "                # and then removes the parentheses which always surround it. \n",
    "                if table.find('span', {'style' : 'display:none'}):\n",
    "                    for row in table.find_all('span', {'style' : 'display:none'}):\n",
    "                        if row.string:\n",
    "                            #print(row.string[1:-1])\n",
    "                            dday = row.string[1:-1]\n",
    "                            dYear = dday[0:4]\n",
    "                    \n",
    "     \n",
    "            if not bday:\n",
    "                bday = 'NaN'\n",
    "                bYear = bday\n",
    "                \n",
    "            if not dday:\n",
    "                dday = 'NaN'\n",
    "                dYear = 'NaN'\n",
    "            \n",
    "            if not instrumentList:\n",
    "                instrumentList.append('Organ')\n",
    "        \n",
    "            #print('\\n')\n",
    "        \n",
    "            # Time delay on for loop\n",
    "            sleep(1.0)\n",
    "            \n",
    "            \n",
    "    \n",
    "        else:\n",
    "            #print('\\n')\n",
    "            bday = 'NaN'\n",
    "            bYear = bday\n",
    "            dday = 'NaN'\n",
    "            dYear = dday\n",
    "                \n",
    "            bday = 'NaN'\n",
    "            bYear = bday\n",
    "            if bday == 'NaN':\n",
    "                dday = 'NaN'\n",
    "                dYear = 'NaN'\n",
    "                    \n",
    "            if not instrumentList:\n",
    "                instrumentList.append('Organ')\n",
    "                \n",
    "                \n",
    "        # Appending the values to the DataFrame        \n",
    "        pDF = pDF.append( {'artist' : organist, 'instrument' : instrumentList[0], 'birthdate' : str(bday),\n",
    "                           'deathdate' : str(dday), 'birth_year' : bYear, 'death_year' : dYear}, ignore_index = True)\n",
    "    \n",
    "        runs += 1\n",
    "        #print(runs)\n",
    "\n"
   ]
  },
  {
   "cell_type": "code",
   "execution_count": 22,
   "metadata": {
    "scrolled": true
   },
   "outputs": [],
   "source": [
    "pd.set_option('display.max_rows', None)\n",
    "pd.set_option('display.max_columns', None)\n",
    "pd.set_option('display.width', None)\n",
    "pd.set_option('display.max_colwidth', None)\n",
    "# To make it easier to loop through DataFrame? \n",
    "# pDF.set_index('Artist', inplace = True)\n",
    "\n",
    "# Deleting Birth Year and Death Year columns for now because I don't think they're that necessary given the solution\n",
    "# I've decided to pursue. However, I will leave this like so for now because I don't want to commit to this solution \n",
    "# yet. \n",
    "pDF.drop(columns = ['birth_year', 'death_year'], inplace = True)\n",
    "\n",
    "#print(pDF)"
   ]
  },
  {
   "cell_type": "code",
   "execution_count": 23,
   "metadata": {},
   "outputs": [],
   "source": [
    "# Adding 'alive' column to the DataFrame using np.select() \n",
    "\n",
    "conditions = [ (pDF['birthdate'] == 'NaN') & (pDF['deathdate'] == 'NaN'), (pDF['deathdate'] == 'NaN'), \n",
    "             (pDF['deathdate'] != 'NaN') ]\n",
    "\n",
    "values = ['NaN', True, False]\n",
    "\n",
    "pDF['alive'] = np.select(conditions, values)\n",
    "#print(pDF)"
   ]
  },
  {
   "cell_type": "code",
   "execution_count": 24,
   "metadata": {
    "scrolled": true
   },
   "outputs": [],
   "source": [
    "# Forcing all of the dates into datetime objects \n",
    "\n",
    "pDF['bday_dt'] = pd.to_datetime(pDF['birthdate'], errors = 'coerce')\n",
    "pDF['dday_dt'] = pd.to_datetime(pDF['deathdate'], errors = 'coerce')\n",
    "\n",
    "# Account for the age of people who are alive today as well\n",
    "conditions = [ (pDF['alive'] == 'True'), (pDF['alive'] == 'False'), (pDF['alive'] == 'NaN') ]\n",
    "\n",
    "values = [ (pd.to_datetime('today') - pDF['bday_dt']).astype('timedelta64[Y]').astype(float),\n",
    "         (pDF['dday_dt'] - pDF['bday_dt']).astype('timedelta64[Y]').astype(float), 'NaN' ]\n",
    "\n",
    "pDF['age_yrs'] = np.select(conditions, values)\n",
    "\n",
    "#display(pDF)"
   ]
  },
  {
   "cell_type": "code",
   "execution_count": 15,
   "metadata": {},
   "outputs": [],
   "source": [
    "# Outputs the .csv file that was then cleaned in Excel and put back into the jazz-pianist-files folder as \n",
    "# jazz_pianists_cleaned1.csv\n",
    "pDF.to_csv('jazz_organists1.csv', index = False)"
   ]
  },
  {
   "cell_type": "code",
   "execution_count": null,
   "metadata": {},
   "outputs": [],
   "source": []
  }
 ],
 "metadata": {
  "kernelspec": {
   "display_name": "Python 3",
   "language": "python",
   "name": "python3"
  },
  "language_info": {
   "codemirror_mode": {
    "name": "ipython",
    "version": 3
   },
   "file_extension": ".py",
   "mimetype": "text/x-python",
   "name": "python",
   "nbconvert_exporter": "python",
   "pygments_lexer": "ipython3",
   "version": "3.7.6"
  }
 },
 "nbformat": 4,
 "nbformat_minor": 4
}
